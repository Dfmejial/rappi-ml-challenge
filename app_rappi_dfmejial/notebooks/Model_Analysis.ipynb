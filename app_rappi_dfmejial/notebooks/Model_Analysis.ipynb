{
 "cells": [
  {
   "cell_type": "code",
   "execution_count": 7,
   "metadata": {},
   "outputs": [],
   "source": [
    "%load_ext autoreload\n",
    "%autoreload 2"
   ]
  },
  {
   "cell_type": "markdown",
   "metadata": {},
   "source": [
    "# 1. Context\n",
    "\n",
    "We analyze the model developed as part of the rappi challenge proposed.\n",
    "\n",
    "The developed package trains a binary classification model for the famous Titanic disaster dataset, based on a Random Forest. This type of model is ideal for analyzing the importance of input features and is generally robust.\n",
    "\n",
    "Basic performance metrics were used:\n",
    "\n",
    "1. Precision\n",
    "2. Recall\n",
    "3. F1 Score\n",
    "   \n",
    "Given the nature of the challenge, more elaborate metrics such as ROC or AUC were not further explored.\n",
    "\n",
    "# 2. Objective\n",
    "1. Analyze the evaluation metrics of the model.\n",
    "2. Create a report on the importance of each feature in the model.\n",
    "3. Outline a possible deployment plan for the model."
   ]
  },
  {
   "cell_type": "markdown",
   "metadata": {},
   "source": [
    "# 3. Metrics Analysis\n",
    "\n",
    "By running the package with default arguments, we obtain:\n",
    "\n",
    "Precision on test set: 0.7931034482758621\n",
    "\n",
    "Recall on test set: 0.6666666666666666\n",
    "\n",
    "F1 on test set: 0.7244094488188977\n",
    "\n",
    "### Precision:\n",
    "Precision is the ratio of true positive predictions to the total predicted positives. Mathematically, it is defined as:\n",
    "\n",
    "$$Precision = \\frac{TP}{TP + FP}$$\n",
    " \n",
    "\n",
    "In the context of a binary classifier for the Titanic dataset:\n",
    "\n",
    "Precision measures the accuracy of the survivors predictions made by the model.\n",
    "A higher precision indicates that when the model predicts a survivor, it is more likely to be correct.\n",
    "Given the precision value of approximately 0.79, it suggests that around 79% of the positive predictions (survivors) made by the model are correct.\n",
    "\n",
    "### Recall:\n",
    "Recall, also known as sensitivity or true positive rate, is the ratio of true positive predictions to the total actual positives. Mathematically, it is defined as:\n",
    "\n",
    "$$Recall = \\frac{TP}{TP + FN}$$\n",
    "​\n",
    "In the context of a binary classifier for the Titanic dataset:\n",
    "\n",
    "Recall measures the ability of the model to capture all positive instances (survivors) in the dataset.\n",
    "A higher recall indicates that the model is good at identifying positive instances.\n",
    "With a recall value of approximately 0.67, it suggests that the model captures around 67% of the actual positive instances in the dataset.\n",
    "\n",
    "### F1 Score:\n",
    "The F1 score is the harmonic mean of precision and recall. It is calculated as:\n",
    "\n",
    "$$F_1 = 2 \\times \\left( \\frac{Precision \\times Recall}{Precision + Recall}\\right)$$\n",
    "\n",
    "In the context of a binary classifier for the Titanic dataset:\n",
    "\n",
    "F1 score provides a balance between precision and recall. It is particularly useful when there is an uneven class distribution.\n",
    "A higher F1 score indicates a better balance between precision and recall.\n",
    "With an F1 score of approximately 0.72, it suggests a good balance between precision and recall, indicating a reasonably effective model.\n",
    "\n",
    "### Interpretation:\n",
    "The precision of 0.79 suggests that the model is relatively accurate when predicting positive outcomes.\n",
    "The recall of 0.67 indicates that the model captures a substantial portion of the actual positive instances.\n",
    "The F1 score of 0.72 suggests a balanced trade-off between precision and recall.\n",
    "In conclusion, based on these metrics, the model appears to perform reasonably well for a binary classifier on the Titanic dataset. However, the assessment of whether the model is \"good\" depends on the specific requirements and priorities of the application. We would need to consider the context and consequences of false positives and false negatives to make a more informed decision.\n"
   ]
  },
  {
   "cell_type": "markdown",
   "metadata": {},
   "source": [
    "# 4. Feature importance\n",
    "\n",
    "We use a trained random forest for this analysis, by changing the path to another model (as the package does) the analysis can be conducted over other model configurations."
   ]
  },
  {
   "cell_type": "code",
   "execution_count": 51,
   "metadata": {},
   "outputs": [],
   "source": [
    "from joblib import load\n",
    "import numpy as np\n",
    "import pandas as pd\n",
    "import seaborn as sn\n",
    "\n",
    "sn.set_style(\"darkgrid\")"
   ]
  },
  {
   "cell_type": "code",
   "execution_count": 18,
   "metadata": {},
   "outputs": [
    {
     "data": {
      "text/plain": [
       "sklearn.ensemble._forest.RandomForestClassifier"
      ]
     },
     "execution_count": 18,
     "metadata": {},
     "output_type": "execute_result"
    }
   ],
   "source": [
    "# Load a pre-trained model\n",
    "\n",
    "clf = load(\"/Users/dmejia/Desktop/rml/rappi-ml-challenge/20240119_091917_28752b52e90d41d78af1a7f159a207c8.joblib\")\n",
    "type(clf)"
   ]
  },
  {
   "cell_type": "code",
   "execution_count": 24,
   "metadata": {},
   "outputs": [],
   "source": [
    "# Calcualte feature's importance\n",
    "\n",
    "importances = clf.feature_importances_\n",
    "std = np.std([tree.feature_importances_ for tree in clf.estimators_], axis=0)\n",
    "feature_names = clf.feature_names_in_"
   ]
  },
  {
   "cell_type": "code",
   "execution_count": 46,
   "metadata": {},
   "outputs": [
    {
     "data": {
      "text/plain": [
       "Index(['Feature', 'Importance'], dtype='object')"
      ]
     },
     "execution_count": 46,
     "metadata": {},
     "output_type": "execute_result"
    }
   ],
   "source": [
    "# Use dataframes to handle data\n",
    "\n",
    "forest_importances = pd.DataFrame(importances, index=feature_names).reset_index().rename(columns={\"index\": \"Feature\", 0: \"Importance\"})\n"
   ]
  },
  {
   "cell_type": "code",
   "execution_count": 52,
   "metadata": {},
   "outputs": [
    {
     "data": {
      "text/plain": [
       "<AxesSubplot: xlabel='Feature', ylabel='Importance'>"
      ]
     },
     "execution_count": 52,
     "metadata": {},
     "output_type": "execute_result"
    },
    {
     "data": {
      "image/png": "[encoded data removed]",
      "text/plain": [
       "<Figure size 640x480 with 1 Axes>"
      ]
     },
     "metadata": {},
     "output_type": "display_data"
    }
   ],
   "source": [
    "# Graph\n",
    "\n",
    "sn.barplot(data=forest_importances, x=\"Feature\", y=\"Importance\")"
   ]
  },
  {
   "cell_type": "markdown",
   "metadata": {},
   "source": [
    "As we can see the most important features are **sex**, **fare** and **age**, we can say that if you were a rich young woman on the Titanic, chances are you survived."
   ]
  },
  {
   "cell_type": "markdown",
   "metadata": {},
   "source": [
    "## Productive model\n",
    "\n",
    "We based this on the experience on GCP.\n",
    "\n",
    "### 1. Data Ingestion:\n",
    "Source Data:\n",
    "Store the dataset (or new data) in Google Cloud Storage (GCS).\n",
    "Data Preprocessing:\n",
    "Implement a Cloud Function to trigger preprocessing when new data is uploaded to GCS.\n",
    "Use Cloud Functions for event-driven serverless functions.\n",
    "Preprocess the data using the same logic applied during training.\n",
    "### 2. Model Deployment:\n",
    "Model Storage:\n",
    "Save the trained model in a format compatible with AI Platform.\n",
    "Use AI Platform Prediction for model storage.\n",
    "Deploy to AI Platform:\n",
    "Use AI Platform to deploy the model.\n",
    "Set up the model version, specifying the trained model file and required dependencies.\n",
    "Use AI Platform Prediction for deploying and managing the model.\n",
    "\n",
    "### 3. Prediction Service:\n",
    "Build an API:\n",
    "Develop a simple Flask or FastAPI web service to handle prediction requests.\n",
    "Use a lightweight web framework like Flask or FastAPI.\n",
    "Deploy API on Google Cloud Run:\n",
    "Containerize the API using Docker.\n",
    "Deploy the container to Google Cloud Run for easy scaling and management.\n",
    "\n",
    "### 4. Endpoints:\n",
    "Expose API Endpoints:\n",
    "Make the API accessible through a secure HTTPS endpoint.\n",
    "Use API Gateway for managing and securing API access.\n",
    "Utilize Cloud Endpoints for monitoring and controlling the API.\n",
    "Monitor and Logging:\n",
    "Set up Cloud Monitoring for tracking service performance.\n",
    "Utilize Cloud Logging for error tracking and debugging.\n",
    "\n",
    "### 5. Continuous Integration/Continuous Deployment (CI/CD):\n",
    "Version Control:\n",
    "Use Cloud Source Repositories for version control.\n",
    "Use the Git repository provided by Cloud Source Repositories.\n",
    "CI/CD Pipeline:\n",
    "Implement a CI/CD pipeline using Cloud Build to automate testing and deployment.\n",
    "Automate build, test, and deployment processes with Cloud Build.\n",
    "\n",
    "### 6. Monitoring and Maintenance:\n",
    "Monitoring:\n",
    "Regularly monitor service usage, performance, and errors using Cloud Monitoring.\n",
    "Set up custom dashboards for monitoring key metrics.\n",
    "Maintenance:\n",
    "Schedule periodic model updates for continuous improvement.\n",
    "Use Cloud Scheduler to automate recurring tasks such as model updates."
   ]
  }
 ],
 "metadata": {
  "kernelspec": {
   "display_name": "Python 3",
   "language": "python",
   "name": "python3"
  },
  "language_info": {
   "codemirror_mode": {
    "name": "ipython",
    "version": 3
   },
   "file_extension": ".py",
   "mimetype": "text/x-python",
   "name": "python",
   "nbconvert_exporter": "python",
   "pygments_lexer": "ipython3",
   "version": "3.9.6"
  }
 },
 "nbformat": 4,
 "nbformat_minor": 2
}
